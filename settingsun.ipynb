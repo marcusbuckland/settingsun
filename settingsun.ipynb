{
 "cells": [
  {
   "cell_type": "markdown",
   "metadata": {},
   "source": [
    "## Setting Sun\n",
    "\n",
    "Using backtracking to solve the [Setting Sun](https://en.wikipedia.org/wiki/Klotski) puzzle"
   ]
  },
  {
   "cell_type": "code",
   "execution_count": null,
   "metadata": {},
   "outputs": [],
   "source": [
    "import numpy as np\n",
    "\n",
    "# Sun = 0\n",
    "# Tall = 1, 2, 4, 5\n",
    "# Wide = 3\n",
    "# Small = 6, 7, 8, 9\n",
    "\n",
    "class SettingSun:\n",
    "    def __init__(self):\n",
    "        self.n_rows = 5\n",
    "        self.n_cols = 4\n",
    "        self.board = np.zeros(shape=(self.n_rows, self.n_cols))\n",
    "\n",
    "    def setup(self):\n",
    "        pieces = [1, 0, 0, 2, 1, 0, 0, 2, -1, 3, 3, -1, 4, 5, 6, 5, 4, 7, 8, 5]\n",
    "        coords = [(i,j) for i in range(self.n_rows) for j in range(self.n_cols)]\n",
    "\n",
    "        for p, c in zip(pieces, coords):\n",
    "            self.board[c] = p\n",
    "\n",
    "    def get_empty_cells(self):\n",
    "        \"\"\"Returns coordinates of empty cells in board\"\"\"\n",
    "        return self.get_piece_coords(-1)\n",
    "    \n",
    "    def get_position(self):\n",
    "        return \"\".join([str(x) for x in self.board])\n",
    "\n",
    "    def get_piece_coords(self, piece):\n",
    "        return [[r, c] for r, c in np.argwhere(self.board == piece)]\n"
   ]
  },
  {
   "cell_type": "code",
   "execution_count": null,
   "metadata": {},
   "outputs": [],
   "source": [
    "s = SettingSun()\n",
    "s.setup()\n",
    "s.board"
   ]
  },
  {
   "cell_type": "code",
   "execution_count": null,
   "metadata": {},
   "outputs": [],
   "source": [
    "coords = s.get_piece_coords(0)"
   ]
  },
  {
   "cell_type": "code",
   "execution_count": null,
   "metadata": {},
   "outputs": [],
   "source": [
    "rows = {x[0] for x in coords}\n",
    "cols = {x[1] for x in coords}\n",
    "\n",
    "cols"
   ]
  },
  {
   "cell_type": "code",
   "execution_count": null,
   "metadata": {},
   "outputs": [],
   "source": [
    "l = [(x, min(cols) - 1) for x in rows] # Coordinates to check if trying to move left.\n",
    "r = [(x, max(cols) + 1) for x in rows] # Coordinates to check if trying to move right.\n",
    "u = [(min(rows) - 1, x) for x in cols] # Coordinates to check if trying to move up\n",
    "d = [(max(rows) + 1, x) for x in cols] # Coordinates to check if trying to move down."
   ]
  },
  {
   "cell_type": "code",
   "execution_count": null,
   "metadata": {},
   "outputs": [],
   "source": [
    "s.board"
   ]
  }
 ],
 "metadata": {
  "kernelspec": {
   "display_name": "marcus",
   "language": "python",
   "name": "python3"
  },
  "language_info": {
   "codemirror_mode": {
    "name": "ipython",
    "version": 3
   },
   "file_extension": ".py",
   "mimetype": "text/x-python",
   "name": "python",
   "nbconvert_exporter": "python",
   "pygments_lexer": "ipython3",
   "version": "3.11.5"
  }
 },
 "nbformat": 4,
 "nbformat_minor": 2
}
