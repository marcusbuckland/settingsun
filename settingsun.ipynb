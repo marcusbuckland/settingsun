{
 "cells": [
  {
   "cell_type": "markdown",
   "metadata": {},
   "source": [
    "## Setting Sun\n",
    "\n",
    "Using backtracking to solve the [Setting Sun](https://en.wikipedia.org/wiki/Klotski) puzzle"
   ]
  },
  {
   "cell_type": "code",
   "execution_count": null,
   "metadata": {},
   "outputs": [],
   "source": [
    "import numpy as np\n",
    "\n",
    "\n",
    "class Piece:\n",
    "\n",
    "    def __init__(self):\n",
    "        pass\n",
    "\n",
    "    def move_left(self, board):\n",
    "        pass\n",
    "\n",
    "    def move_right(self, board):\n",
    "        pass\n",
    "\n",
    "    def move_up(self, board):\n",
    "        pass\n",
    "\n",
    "    def move_down(self, board):\n",
    "        pass\n",
    "\n",
    "\n",
    "class SettingSun:\n",
    "    pass"
   ]
  },
  {
   "cell_type": "code",
   "execution_count": null,
   "metadata": {},
   "outputs": [],
   "source": []
  },
  {
   "cell_type": "code",
   "execution_count": null,
   "metadata": {},
   "outputs": [],
   "source": []
  }
 ],
 "metadata": {
  "language_info": {
   "name": "python"
  }
 },
 "nbformat": 4,
 "nbformat_minor": 2
}
