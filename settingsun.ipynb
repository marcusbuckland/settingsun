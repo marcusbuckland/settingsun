{
 "cells": [
  {
   "cell_type": "markdown",
   "metadata": {},
   "source": [
    "## Setting Sun\n",
    "\n",
    "Using backtracking to solve the [Setting Sun](https://en.wikipedia.org/wiki/Klotski) puzzle"
   ]
  },
  {
   "cell_type": "code",
   "execution_count": 1,
   "metadata": {},
   "outputs": [],
   "source": [
    "import numpy as np\n",
    "\n",
    "N_ROWS = 5\n",
    "N_COLS = 4\n",
    "VALID_COORDS = {(r, c) for r in range(N_ROWS) for c in range(N_COLS)}\n",
    "\n",
    "class SettingSun:\n",
    "    def __init__(self):\n",
    "        self.board = np.zeros(shape=(N_ROWS, N_COLS))\n",
    "\n",
    "    def setup(self):\n",
    "        pieces = [1, 0, 0, 2, 1, 0, 0, 2, -1, 3, 3, -1, 4, 6, 7, 5, 4, 8, 9, 5]\n",
    "        coords = [(r, c) for r in range(N_ROWS) for c in range(N_COLS)]\n",
    "\n",
    "        for p, c in zip(pieces, coords):\n",
    "            self.board[c] = p\n",
    "\n",
    "    def get_empty_cells(self):\n",
    "        \"\"\"Returns coordinates of empty cells in board\"\"\"\n",
    "        return self.get_piece_coords(-1)\n",
    "    \n",
    "    def get_position(self):\n",
    "        return \"\".join([str(x) for x in self.board])\n",
    "\n",
    "    def get_piece_coords(self, piece):\n",
    "        return {(r, c) for r, c in np.argwhere(self.board == piece)}\n",
    "    \n",
    "    def get_updated_piece_coords(self, piece, direction):\n",
    "        match direction:\n",
    "            case \"LEFT\":\n",
    "                return {(r, c-1) for r, c in self.get_piece_coords(piece)}\n",
    "            case \"RIGHT\":\n",
    "                return {(r, c+1) for r, c in self.get_piece_coords(piece)}\n",
    "            case \"UP\":\n",
    "                return {(r-1, c) for r, c in self.get_piece_coords(piece)}\n",
    "            case \"DOWN\":\n",
    "                return {(r+1, c) for r, c in self.get_piece_coords(piece)}\n",
    "\n",
    "    def update_board(self, piece, coords):\n",
    "        \"\"\"Updates the board, placing the piece specified to the coords specified.\n",
    "        Called during \"move\" methods.\"\"\"\n",
    "        for r, c in coords:\n",
    "            self.board[r, c] = piece\n",
    "\n",
    "    def move_piece_left(self, piece):\n",
    "        coords = self.get_updated_piece_coords(piece, \"LEFT\")\n",
    "        self.board[np.where(self.board==piece)] = -1 # remove piece\n",
    "        self.update_board(piece, coords)\n",
    "\n",
    "    def move_piece_right(self, piece):\n",
    "        coords = self.get_updated_piece_coords(piece, \"RIGHT\")\n",
    "        self.board[np.where(self.board==piece)] = -1 # remove piece\n",
    "        self.update_board(piece, coords)\n",
    "\n",
    "    def move_piece_up(self, piece):\n",
    "        coords = self.get_updated_piece_coords(piece, \"UP\")\n",
    "        self.board[np.where(self.board==piece)] = -1 # remove piece\n",
    "        self.update_board(piece, coords)\n",
    "\n",
    "    def move_piece_down(self, piece):\n",
    "        coords = self.get_updated_piece_coords(piece, \"DOWN\")\n",
    "        self.board[np.where(self.board==piece)] = -1 # remove piece\n",
    "        self.update_board(piece, coords)\n",
    "\n",
    "    def is_valid_move(self, piece, direction):\n",
    "        coords = self.get_updated_piece_coords(piece, direction)\n",
    "        rows = {c[0] for c in coords}\n",
    "        cols = {c[1] for c in coords}\n",
    "        \n",
    "        # Check that all co-ordinates are in-bounds.\n",
    "        if not coords.issubset(VALID_COORDS) : return False\n",
    "\n",
    "        # Check that there is space for the piece to move into.\n",
    "        match direction:\n",
    "            case \"LEFT\":\n",
    "                l = {(r, min(cols)) for r in rows} # Coordinates to check if trying to move left.\n",
    "                return {-1} == set([self.board[c] for c in l])\n",
    "            case \"RIGHT\":\n",
    "                r = {(r, max(cols)) for r in rows} # Coordinates to check if trying to move right.\n",
    "                return {-1} == set([self.board[c] for c in r])\n",
    "            case \"UP\":\n",
    "                u = {(min(rows), c) for c in cols} # Coordinates to check if trying to move up\n",
    "                return {-1} == set([self.board[c] for c in u])\n",
    "            case \"DOWN\":\n",
    "                d = {(max(rows), c) for c in cols} # Coordinates to check if trying to move down.\n",
    "                return {-1} == set([self.board[c] for c in d])\n",
    "\n",
    "        # Shouldn't be possible to make it here.\n",
    "        raise Exception()\n",
    "\n",
    "        \n"
   ]
  },
  {
   "cell_type": "code",
   "execution_count": 2,
   "metadata": {},
   "outputs": [
    {
     "data": {
      "text/plain": [
       "array([[ 1.,  0.,  0.,  2.],\n",
       "       [ 1.,  0.,  0.,  2.],\n",
       "       [-1.,  3.,  3., -1.],\n",
       "       [ 4.,  6.,  7.,  5.],\n",
       "       [ 4.,  8.,  9.,  5.]])"
      ]
     },
     "execution_count": 2,
     "metadata": {},
     "output_type": "execute_result"
    }
   ],
   "source": [
    "s = SettingSun()\n",
    "s.setup()\n",
    "s.board"
   ]
  },
  {
   "cell_type": "code",
   "execution_count": 3,
   "metadata": {},
   "outputs": [],
   "source": [
    "# Testing of is_valid_move method - Valid moves.\n",
    "assert s.is_valid_move(piece=1, direction=\"DOWN\")\n",
    "assert s.is_valid_move(piece=2, direction=\"DOWN\")\n",
    "assert s.is_valid_move(piece=4, direction=\"UP\")\n",
    "assert s.is_valid_move(piece=5, direction=\"UP\")\n",
    "assert s.is_valid_move(piece=3, direction=\"LEFT\")\n",
    "assert s.is_valid_move(piece=3, direction=\"RIGHT\")"
   ]
  },
  {
   "cell_type": "code",
   "execution_count": 14,
   "metadata": {},
   "outputs": [
    {
     "data": {
      "text/plain": [
       "array([[ 1.,  0.,  0.,  2.],\n",
       "       [ 1.,  0.,  0.,  2.],\n",
       "       [-1.,  3.,  3., -1.],\n",
       "       [ 4.,  6.,  7.,  5.],\n",
       "       [ 4.,  8.,  9.,  5.]])"
      ]
     },
     "execution_count": 14,
     "metadata": {},
     "output_type": "execute_result"
    }
   ],
   "source": [
    "s.board"
   ]
  },
  {
   "cell_type": "code",
   "execution_count": 13,
   "metadata": {},
   "outputs": [
    {
     "data": {
      "text/plain": [
       "{0: [],\n",
       " 1: ['DOWN'],\n",
       " 2: ['DOWN'],\n",
       " 3: ['LEFT', 'RIGHT'],\n",
       " 4: ['UP'],\n",
       " 5: ['UP'],\n",
       " 6: [],\n",
       " 7: [],\n",
       " 8: [],\n",
       " 9: []}"
      ]
     },
     "execution_count": 13,
     "metadata": {},
     "output_type": "execute_result"
    }
   ],
   "source": [
    "di = {k:[] for k in range(10)}\n",
    "\n",
    "for k in di:\n",
    "    for d in [\"LEFT\", \"RIGHT\", \"UP\", \"DOWN\"]:\n",
    "        if s.is_valid_move(piece=k, direction=d):\n",
    "            di[k].append(d)\n",
    "\n",
    "di"
   ]
  },
  {
   "cell_type": "code",
   "execution_count": 5,
   "metadata": {},
   "outputs": [],
   "source": [
    "coords = s.get_piece_coords(1)\n",
    "rows = {x[0] for x in coords}\n",
    "cols = {x[1] for x in coords}"
   ]
  },
  {
   "cell_type": "code",
   "execution_count": null,
   "metadata": {},
   "outputs": [],
   "source": []
  },
  {
   "cell_type": "code",
   "execution_count": null,
   "metadata": {},
   "outputs": [],
   "source": []
  },
  {
   "cell_type": "code",
   "execution_count": 6,
   "metadata": {},
   "outputs": [],
   "source": [
    "l = {(x, min(cols) - 1) for x in rows} # Coordinates to check if trying to move left.\n",
    "r = {(x, max(cols) + 1) for x in rows} # Coordinates to check if trying to move right.\n",
    "u = {(min(rows) - 1, x) for x in cols} # Coordinates to check if trying to move up\n",
    "d = {(max(rows) + 1, x) for x in cols} # Coordinates to check if trying to move down."
   ]
  },
  {
   "cell_type": "code",
   "execution_count": 7,
   "metadata": {},
   "outputs": [
    {
     "data": {
      "text/plain": [
       "True"
      ]
     },
     "execution_count": 7,
     "metadata": {},
     "output_type": "execute_result"
    }
   ],
   "source": [
    "{-1} == set([s.board[c] for c in d]) # Validation if piece can move"
   ]
  },
  {
   "cell_type": "code",
   "execution_count": null,
   "metadata": {},
   "outputs": [],
   "source": []
  },
  {
   "cell_type": "code",
   "execution_count": null,
   "metadata": {},
   "outputs": [],
   "source": []
  }
 ],
 "metadata": {
  "kernelspec": {
   "display_name": "marcus",
   "language": "python",
   "name": "python3"
  },
  "language_info": {
   "codemirror_mode": {
    "name": "ipython",
    "version": 3
   },
   "file_extension": ".py",
   "mimetype": "text/x-python",
   "name": "python",
   "nbconvert_exporter": "python",
   "pygments_lexer": "ipython3",
   "version": "3.11.5"
  }
 },
 "nbformat": 4,
 "nbformat_minor": 2
}
