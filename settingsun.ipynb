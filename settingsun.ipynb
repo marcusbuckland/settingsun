{
 "cells": [
  {
   "cell_type": "markdown",
   "metadata": {},
   "source": [
    "## Setting Sun\n",
    "\n",
    "Using backtracking to solve the [Setting Sun](https://en.wikipedia.org/wiki/Klotski) puzzle"
   ]
  },
  {
   "cell_type": "code",
   "execution_count": 1,
   "metadata": {},
   "outputs": [],
   "source": [
    "import numpy as np\n",
    "\n",
    "N_ROWS = 5\n",
    "N_COLS = 4\n",
    "VALID_COORDS = {(r, c) for r in range(N_ROWS) for c in range(N_COLS)}\n",
    "WIN_COORDS = {(r, c) for r in range(3, 5) for c in range(1, 3)}\n",
    "DIRECTIONS = [\"LEFT\", \"RIGHT\", \"UP\", \"DOWN\"]\n",
    "\n",
    "class SettingSun:\n",
    "    def __init__(self):\n",
    "        self.board = np.zeros(shape=(N_ROWS, N_COLS))\n",
    "        self.solution = None\n",
    "\n",
    "    def setup(self):\n",
    "        pieces = [1, 0, 0, 2, 1, 0, 0, 2, -1, 3, 3, -1, 4, 6, 7, 5, 4, 8, 9, 5]\n",
    "        coords = [(r, c) for r in range(N_ROWS) for c in range(N_COLS)]\n",
    "\n",
    "        for p, c in zip(pieces, coords):\n",
    "            self.board[c] = p\n",
    "\n",
    "    def solve_setting_sun(self):\n",
    "        positions = set()\n",
    "        positions.add(self.get_position())\n",
    "        solution = []\n",
    "        \n",
    "        if self.solve(positions=positions, solution=solution):\n",
    "            self.show_solution()\n",
    "        else:\n",
    "            print(\"No solution found!\")\n",
    "\n",
    "    def solve(self, positions, solution):\n",
    "        # base case\n",
    "        if self.has_finished() : \n",
    "            self.solution = solution\n",
    "            return True\n",
    "\n",
    "        pos = self.get_position()\n",
    "        if pos in positions : return False # No progress- I've been here before!!\n",
    "\n",
    "        # recursive case\n",
    "        valid_moves = self.get_valid_moves()\n",
    "        for p, d in valid_moves.items():\n",
    "            self.move_piece(p, d)\n",
    "            new_pos = self.get_position()\n",
    "            positions.add(new_pos)\n",
    "            solution.append(f\"Move piece {p}: {d}\")\n",
    "\n",
    "            if self.solve(positions=positions, solution=solution):\n",
    "                return True\n",
    "            \n",
    "            # backtrack\n",
    "            solution.pop()\n",
    "            positions.remove(new_pos)\n",
    "\n",
    "        return False\n",
    "\n",
    "    def get_empty_cells(self):\n",
    "        \"\"\"Returns coordinates of empty cells in board\"\"\"\n",
    "        return self.get_piece_coords(-1)\n",
    "    \n",
    "    def get_sun(self):\n",
    "        \"\"\"Returns coordinates of the \"sun\" piece\"\"\"\n",
    "        return set(self.get_piece_coords(0))\n",
    "    \n",
    "    def get_position(self):\n",
    "        return str([self.get_piece_coords(p)[0] for p in range(10)])\n",
    "\n",
    "    def get_piece_coords(self, piece):\n",
    "        return [(r, c) for r, c in np.argwhere(self.board == piece)]\n",
    "    \n",
    "    def get_updated_piece_coords(self, piece, direction):\n",
    "        match direction:\n",
    "            case \"LEFT\":\n",
    "                return {(r, c-1) for r, c in self.get_piece_coords(piece)}\n",
    "            case \"RIGHT\":\n",
    "                return {(r, c+1) for r, c in self.get_piece_coords(piece)}\n",
    "            case \"UP\":\n",
    "                return {(r-1, c) for r, c in self.get_piece_coords(piece)}\n",
    "            case \"DOWN\":\n",
    "                return {(r+1, c) for r, c in self.get_piece_coords(piece)}\n",
    "\n",
    "    def update_board(self, piece, coords):\n",
    "        \"\"\"Updates the board, placing the piece specified to the coords specified.\n",
    "        Called during \"move\" methods.\"\"\"\n",
    "        for r, c in coords:\n",
    "            self.board[r, c] = piece\n",
    "\n",
    "    def move_piece(self, piece, direction):\n",
    "        match direction:\n",
    "            case \"LEFT\" : self.move_piece_left(piece)\n",
    "            case \"RIGHT\" : self.move_piece_right(piece)\n",
    "            case \"UP\" : self.move_piece_up(piece)\n",
    "            case \"DOWN\" : self.move_piece_down(piece)\n",
    "\n",
    "    def move_piece_left(self, piece):\n",
    "        coords = self.get_updated_piece_coords(piece, \"LEFT\")\n",
    "        self.board[np.where(self.board==piece)] = -1 # remove piece\n",
    "        self.update_board(piece, coords)\n",
    "\n",
    "    def move_piece_right(self, piece):\n",
    "        coords = self.get_updated_piece_coords(piece, \"RIGHT\")\n",
    "        self.board[np.where(self.board==piece)] = -1 # remove piece\n",
    "        self.update_board(piece, coords)\n",
    "\n",
    "    def move_piece_up(self, piece):\n",
    "        coords = self.get_updated_piece_coords(piece, \"UP\")\n",
    "        self.board[np.where(self.board==piece)] = -1 # remove piece\n",
    "        self.update_board(piece, coords)\n",
    "\n",
    "    def move_piece_down(self, piece):\n",
    "        coords = self.get_updated_piece_coords(piece, \"DOWN\")\n",
    "        self.board[np.where(self.board==piece)] = -1 # remove piece\n",
    "        self.update_board(piece, coords)\n",
    "\n",
    "    def is_valid_move(self, piece, direction):\n",
    "        coords = self.get_updated_piece_coords(piece, direction)\n",
    "        rows = {c[0] for c in coords}\n",
    "        cols = {c[1] for c in coords}\n",
    "        \n",
    "        # Check that all coordinates are in-bounds.\n",
    "        if not coords.issubset(VALID_COORDS) : return False\n",
    "\n",
    "        # Check that there is space for the piece to move into.\n",
    "        match direction:\n",
    "            case \"LEFT\":\n",
    "                l = {(r, min(cols)) for r in rows} # Coordinates to check if trying to move left.\n",
    "                return {-1} == set([self.board[c] for c in l])\n",
    "            case \"RIGHT\":\n",
    "                r = {(r, max(cols)) for r in rows} # Coordinates to check if trying to move right.\n",
    "                return {-1} == set([self.board[c] for c in r])\n",
    "            case \"UP\":\n",
    "                u = {(min(rows), c) for c in cols} # Coordinates to check if trying to move up\n",
    "                return {-1} == set([self.board[c] for c in u])\n",
    "            case \"DOWN\":\n",
    "                d = {(max(rows), c) for c in cols} # Coordinates to check if trying to move down.\n",
    "                return {-1} == set([self.board[c] for c in d])\n",
    "\n",
    "        # Shouldn't be possible to make it here.\n",
    "        raise Exception()\n",
    "\n",
    "    def get_valid_moves(self):\n",
    "        moves = {k:[] for k in range(10)}\n",
    "\n",
    "        for piece in moves:\n",
    "            for direction in DIRECTIONS:\n",
    "                if self.is_valid_move(piece=piece, direction=direction):\n",
    "                    moves[piece].append(direction)\n",
    "\n",
    "        return moves\n",
    "\n",
    "    def has_finished(self):\n",
    "        return self.get_sun() == WIN_COORDS\n",
    "    \n",
    "    def show_solution(self):\n",
    "        for step in self.solution:\n",
    "            print(step)\n"
   ]
  },
  {
   "cell_type": "code",
   "execution_count": 2,
   "metadata": {},
   "outputs": [
    {
     "name": "stdout",
     "output_type": "stream",
     "text": [
      "No solution found!\n"
     ]
    }
   ],
   "source": [
    "s = SettingSun()\n",
    "s.setup()\n",
    "s.solve_setting_sun()"
   ]
  },
  {
   "cell_type": "code",
   "execution_count": 3,
   "metadata": {},
   "outputs": [],
   "source": [
    "# Testing of is_valid_move method - Valid moves.\n",
    "assert s.is_valid_move(piece=1, direction=\"DOWN\")\n",
    "assert s.is_valid_move(piece=2, direction=\"DOWN\")\n",
    "assert s.is_valid_move(piece=4, direction=\"UP\")\n",
    "assert s.is_valid_move(piece=5, direction=\"UP\")\n",
    "assert s.is_valid_move(piece=3, direction=\"LEFT\")\n",
    "assert s.is_valid_move(piece=3, direction=\"RIGHT\")"
   ]
  },
  {
   "cell_type": "code",
   "execution_count": 4,
   "metadata": {},
   "outputs": [
    {
     "data": {
      "text/plain": [
       "'[(0, 1), (0, 0), (0, 3), (2, 1), (3, 0), (3, 3), (3, 1), (3, 2), (4, 1), (4, 2)]'"
      ]
     },
     "execution_count": 4,
     "metadata": {},
     "output_type": "execute_result"
    }
   ],
   "source": [
    "s.get_position()"
   ]
  },
  {
   "cell_type": "code",
   "execution_count": 5,
   "metadata": {},
   "outputs": [
    {
     "data": {
      "text/plain": [
       "{0: [],\n",
       " 1: ['DOWN'],\n",
       " 2: ['DOWN'],\n",
       " 3: ['LEFT', 'RIGHT'],\n",
       " 4: ['UP'],\n",
       " 5: ['UP'],\n",
       " 6: [],\n",
       " 7: [],\n",
       " 8: [],\n",
       " 9: []}"
      ]
     },
     "execution_count": 5,
     "metadata": {},
     "output_type": "execute_result"
    }
   ],
   "source": [
    "moves = {k:[] for k in range(10)}\n",
    "\n",
    "for k in moves:\n",
    "    for d in DIRECTIONS:\n",
    "        if s.is_valid_move(piece=k, direction=d):\n",
    "            moves[k].append(d)\n",
    "\n",
    "moves"
   ]
  },
  {
   "cell_type": "code",
   "execution_count": 6,
   "metadata": {},
   "outputs": [
    {
     "data": {
      "text/plain": [
       "'[(0, 1), (0, 0), (0, 3), (2, 1), (3, 0), (3, 3), (3, 1), (3, 2), (4, 1), (4, 2)]'"
      ]
     },
     "execution_count": 6,
     "metadata": {},
     "output_type": "execute_result"
    }
   ],
   "source": [
    "str([s.get_piece_coords(x)[0] for x in range(10)])"
   ]
  }
 ],
 "metadata": {
  "kernelspec": {
   "display_name": "marcus",
   "language": "python",
   "name": "python3"
  },
  "language_info": {
   "codemirror_mode": {
    "name": "ipython",
    "version": 3
   },
   "file_extension": ".py",
   "mimetype": "text/x-python",
   "name": "python",
   "nbconvert_exporter": "python",
   "pygments_lexer": "ipython3",
   "version": "3.11.5"
  }
 },
 "nbformat": 4,
 "nbformat_minor": 2
}
